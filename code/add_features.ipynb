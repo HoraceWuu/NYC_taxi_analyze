{
 "cells": [
  {
   "attachments": {},
   "cell_type": "markdown",
   "metadata": {},
   "source": [
    "This notebook is used to add other features into the counted trip data.   \n",
    "At the end of the project id will be merged into the main file."
   ]
  },
  {
   "cell_type": "code",
   "execution_count": null,
   "metadata": {},
   "outputs": [],
   "source": [
    "import geopandas as gpd\n",
    "import pandas as pd\n",
    "import os"
   ]
  },
  {
   "cell_type": "code",
   "execution_count": null,
   "metadata": {},
   "outputs": [],
   "source": [
    "# get the center of each zone\n",
    "def get_nyczones_center(filepath):\n",
    "    # Read shapefile into geopandas dataframe\n",
    "    nyczones = gpd.read_file(filepath)\n",
    "    nyczones = nyczones.to_crs(epsg=4326)  # Convert to WGS84\n",
    "\n",
    "    # calculate the center of each zone\n",
    "    nyczones['center'] = nyczones['geometry'].centroid\n",
    "    nyczones['center_lat'] = nyczones['center'].apply(lambda p: p.y)\n",
    "    nyczones['center_lon'] = nyczones['center'].apply(lambda p: p.x)\n",
    "\n",
    "    return nyczones"
   ]
  },
  {
   "cell_type": "code",
   "execution_count": 21,
   "metadata": {},
   "outputs": [],
   "source": [
    "# Read in the counted trip data and add the features we need\n",
    "def add_features(folder_path):\n",
    "    '''\n",
    "    input: folder_path - the path to the folder containing the counted data\n",
    "    output: saves the counted data with the added features to the folder\n",
    "    '''\n",
    "    # get other features\n",
    "    ## the center longtitude and latitude of OD zones\n",
    "    nyczones = get_nyczones_center('../data/taxi_zones/taxi_zones.shp')\n",
    "\n",
    "    ## the weather data\n",
    "    weather = {}\n",
    "    for filename in os.listdir('../data/weather_data/csv/merged/'):\n",
    "        if filename.endswith(\".csv\"):\n",
    "            weather_path = os.path.join('../data/weather_data/csv/merged/', filename)\n",
    "            weather_data = pd.read_csv(weather_path)\n",
    "            weather[filename[13:-6]] = weather_data  # the year is the key\n",
    "            \n",
    "\n",
    "    # read in the counted data from the folder\n",
    "    for filename in os.listdir(folder_path):\n",
    "        if filename.endswith(\".csv\"):\n",
    "            file_path = os.path.join(folder_path, filename)\n",
    "            df = pd.read_csv(file_path)\n",
    "\n",
    "            # merge the lat and lon of the center of the PULocation and DOLocation\n",
    "            df = df.merge(nyczones[['LocationID', 'center_lat', 'center_lon']], left_on='PULocationID', right_on='LocationID', how='left')\n",
    "            df = df.rename(columns={'center_lat': 'PULocation_lat', 'center_lon': 'PULocation_lon'})\n",
    "            df = df.drop(columns=['LocationID'])\n",
    "            df = df.merge(nyczones[['LocationID', 'center_lat', 'center_lon']], left_on='DOLocationID', right_on='LocationID', how='left')\n",
    "            df = df.rename(columns={'center_lat': 'DOLocation_lat', 'center_lon': 'DOLocation_lon'})\n",
    "            df = df.drop(columns=['LocationID'])\n",
    "            df = df.drop(columns=['PULocationID', 'DOLocationID'])\n",
    "\n",
    "            # merge the weather data\n",
    "            # merge the weather data\n",
    "            df = df.merge(weather[filename[-11:-7]], left_on=['day','hour'], right_on=['date','time'], how='left') #the year is the key\n",
    "            df = df.drop(columns=['date','time'])\n",
    "\n",
    "            # save the data\n",
    "            df.to_csv(file_path.replace('countdata','mergedata'), index=False)\n",
    "            print('saved', file_path.replace('countdata','mergedata'))\n",
    "\n",
    "    print('Done!')\n",
    "    return None\n",
    "            "
   ]
  },
  {
   "cell_type": "code",
   "execution_count": null,
   "metadata": {},
   "outputs": [],
   "source": [
    "add_features('../data/processed_nyc_data/')"
   ]
  }
 ],
 "metadata": {
  "kernelspec": {
   "display_name": "PTUA_Ass",
   "language": "python",
   "name": "python3"
  },
  "language_info": {
   "codemirror_mode": {
    "name": "ipython",
    "version": 3
   },
   "file_extension": ".py",
   "mimetype": "text/x-python",
   "name": "python",
   "nbconvert_exporter": "python",
   "pygments_lexer": "ipython3",
   "version": "3.7.12"
  },
  "orig_nbformat": 4,
  "vscode": {
   "interpreter": {
    "hash": "73aa197a937c6d4ce912cf3eb748cc19d4a43b8337a43d316b8eed91cf78bf92"
   }
  }
 },
 "nbformat": 4,
 "nbformat_minor": 2
}
