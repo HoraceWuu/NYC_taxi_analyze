{
 "cells": [
  {
   "attachments": {},
   "cell_type": "markdown",
   "metadata": {},
   "source": [
    "# Taxi Travel in New York City during the Christmas Holidays: An Analysis of Destinations and Trends\n",
    "\n",
    "> Author: 2802453   \n",
    "> Date: 25.03.2023\n"
   ]
  },
  {
   "attachments": {},
   "cell_type": "markdown",
   "metadata": {},
   "source": [
    "## Introduction\n",
    "\n"
   ]
  },
  {
   "attachments": {},
   "cell_type": "markdown",
   "metadata": {},
   "source": [
    "This project mainly research on follow questions:\n",
    "1. 哪些地区是热门的出租车始发地和目的地？五年间热门地区是否存在差异\n",
    "2. 这些热门区域间的车流模式是否存在差异？五年来有什么变化\n",
    "3. 分析热门地区间车流的趋势，考察其五年间是否存在变化\n",
    "4. 分析天气因素对出租车流量的影响。\n"
   ]
  },
  {
   "cell_type": "markdown",
   "metadata": {},
   "source": [
    "## Data"
   ]
  },
  {
   "attachments": {},
   "cell_type": "markdown",
   "metadata": {},
   "source": [
    "## Analysis of zones"
   ]
  },
  {
   "attachments": {},
   "cell_type": "markdown",
   "metadata": {},
   "source": [
    "## Analysis of taxi trip flows"
   ]
  },
  {
   "attachments": {},
   "cell_type": "markdown",
   "metadata": {},
   "source": [
    "## Analysis of weather impact on taxi trip flows"
   ]
  },
  {
   "attachments": {},
   "cell_type": "markdown",
   "metadata": {},
   "source": [
    "### SARIMA\n",
    "SARIMA, or Seasonal Autoregressive Integrated Moving Average, is a statistical model used for time series analysis and forecasting. It is an extension of the popular ARIMA model that takes into account seasonal patterns in the data.\n",
    "\n",
    "In SARIMA, the \"S\" stands for the seasonal component, which means that the model considers the repeating patterns that occur within a specific time period, such as monthly, quarterly, or yearly. The \"AR\" in SARIMA refers to the autoregressive component, which takes into account the dependence of the current value on its past values. The \"MA\" stands for the moving average component, which considers the relationship between the current value and the errors from the past values.\n",
    "\n",
    "SARIMA models are typically represented as  \n",
    "$$SARIMA(p,d,q)(P,D,Q)m$$\n",
    "where $p$, $d$, and $q$ are the parameters for the non-seasonal component, $P$, $D$, and $Q$ are the parameters for the seasonal component, and $m$ is the number of time periods in each season. The parameters are determined using statistical techniques such as maximum likelihood estimation or the Akaike Information Criterion (AIC).\n",
    "\n",
    "SARIMA models are widely used in various fields, including finance, economics, and environmental sciences, for forecasting future values based on historical patterns. They are particularly useful when the data exhibit seasonal patterns or have non-stationary behavior, such as trends or cycles. "
   ]
  },
  {
   "attachments": {},
   "cell_type": "markdown",
   "metadata": {},
   "source": [
    "## Conclusion"
   ]
  }
 ],
 "metadata": {
  "kernelspec": {
   "display_name": "PTUA_Ass",
   "language": "python",
   "name": "python3"
  },
  "language_info": {
   "codemirror_mode": {
    "name": "ipython",
    "version": 3
   },
   "file_extension": ".py",
   "mimetype": "text/x-python",
   "name": "python",
   "nbconvert_exporter": "python",
   "pygments_lexer": "ipython3",
   "version": "3.7.12"
  },
  "orig_nbformat": 4,
  "vscode": {
   "interpreter": {
    "hash": "73aa197a937c6d4ce912cf3eb748cc19d4a43b8337a43d316b8eed91cf78bf92"
   }
  }
 },
 "nbformat": 4,
 "nbformat_minor": 2
}
