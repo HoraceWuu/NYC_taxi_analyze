{
 "cells": [
  {
   "attachments": {},
   "cell_type": "markdown",
   "metadata": {},
   "source": [
    "This notebook is used to add other features into the counted trip data.   \n",
    "At the end of the project id will be merged into the main file."
   ]
  },
  {
   "cell_type": "code",
   "execution_count": null,
   "metadata": {},
   "outputs": [],
   "source": [
    "import geopandas as gpd\n",
    "import pandas as pd\n",
    "import os"
   ]
  },
  {
   "cell_type": "code",
   "execution_count": null,
   "metadata": {},
   "outputs": [],
   "source": [
    "# get the center of each zone\n",
    "def get_nyczones_center(filepath):\n",
    "    # Read shapefile into geopandas dataframe\n",
    "    nyczones = gpd.read_file(filepath)\n",
    "    nyczones = nyczones.to_crs(epsg=4326)  # Convert to WGS84\n",
    "\n",
    "    # calculate the center of each zone\n",
    "    nyczones['center'] = nyczones['geometry'].centroid\n",
    "    nyczones['center_lat'] = nyczones['center'].apply(lambda p: p.y)\n",
    "    nyczones['center_lon'] = nyczones['center'].apply(lambda p: p.x)\n",
    "\n",
    "    return nyczones"
   ]
  },
  {
   "cell_type": "code",
   "execution_count": null,
   "metadata": {},
   "outputs": [],
   "source": [
    "# Read in the counted trip data and add the features we need\n",
    "def add_features(folder_path):\n",
    "    '''\n",
    "    input: folder_path - the path to the folder containing the counted data\n",
    "    output: saves the counted data with the added features to the folder\n",
    "    '''\n",
    "    # get other features\n",
    "    ## the center longtitude and latitude of OD zones\n",
    "    nyczones = get_nyczones_center('../data/taxi_zones/taxi_zones.shp')\n",
    "\n",
    "\n",
    "    # read in the counted data from the folder\n",
    "    for filename in os.listdir(folder_path):\n",
    "        if filename.endswith(\".csv\"):\n",
    "            file_path = os.path.join(folder_path, filename)\n",
    "            df = pd.read_csv(file_path)\n",
    "\n",
    "            # merge the lat and lon of the center of the PULocation and DOLocation\n",
    "            df = df.merge(nyczones[['LocationID', 'center_lat', 'center_lon']], left_on='PULocationID', right_on='LocationID', how='left')\n",
    "            df = df.rename(columns={'center_lat': 'PULocation_lat', 'center_lon': 'PULocation_lon'})\n",
    "            df = df.drop(columns=['LocationID'])\n",
    "            df = df.merge(nyczones[['LocationID', 'center_lat', 'center_lon']], left_on='DOLocationID', right_on='LocationID', how='left')\n",
    "            df = df.rename(columns={'center_lat': 'DOLocation_lat', 'center_lon': 'DOLocation_lon'})\n",
    "            df = df.drop(columns=['LocationID'])\n",
    "            df = df.drop(columns=['PULocationID', 'DOLocationID'])\n",
    "\n",
    "            # merge the weather data\n",
    "\n",
    "            \n",
    "    return df\n",
    "            "
   ]
  },
  {
   "cell_type": "code",
   "execution_count": null,
   "metadata": {},
   "outputs": [],
   "source": [
    "# test the visualizating tool of the counted data\n",
    "# creat test dataset\n",
    "\n",
    "def create_test_data(df, day, hour):\n",
    "    '''\n",
    "    input: df - the counted data with the added features\n",
    "           day - the day of the data\n",
    "           hour - the hour of the data\n",
    "    output: save the test data to the folder\n",
    "    '''\n",
    "    # only keep the columns: PULocation_lat, PULocation_lon, DOLocation_lat, DOLocation_lon, day, hour, passenger_turnover\n",
    "    df = df[['PULocation_lon', 'PULocation_lat', 'DOLocation_lon', 'DOLocation_lat', 'day', 'hour', 'passenger_turnover']]\n",
    "\n",
    "    # select data which day is day, hour is hour\n",
    "    df_day_hour = df[(df['day'] == day) & (df['hour'] == hour)]\n",
    "\n",
    "    # drop day and hour columns for the datasets\n",
    "    df_day_hour = df_day_hour.drop(columns=['day', 'hour'])\n",
    "\n",
    "    # save the datasets\n",
    "    df_day_hour.to_csv('../data/processed_nyc_data/test/df' + str(day) + '_' + str(hour) + '.csv', index=False)\n",
    "\n",
    "    return f'Success create test data for day {day} and hour {hour}'\n"
   ]
  },
  {
   "cell_type": "code",
   "execution_count": null,
   "metadata": {},
   "outputs": [],
   "source": [
    "# example of using the create_test_data function\n",
    "df = add_features('../data/processed_nyc_data/2018/')\n",
    "create_test_data(df, 11, 8)\n"
   ]
  }
 ],
 "metadata": {
  "kernelspec": {
   "display_name": "PTUA_Ass",
   "language": "python",
   "name": "python3"
  },
  "language_info": {
   "codemirror_mode": {
    "name": "ipython",
    "version": 3
   },
   "file_extension": ".py",
   "mimetype": "text/x-python",
   "name": "python",
   "nbconvert_exporter": "python",
   "pygments_lexer": "ipython3",
   "version": "3.7.12"
  },
  "orig_nbformat": 4,
  "vscode": {
   "interpreter": {
    "hash": "73aa197a937c6d4ce912cf3eb748cc19d4a43b8337a43d316b8eed91cf78bf92"
   }
  }
 },
 "nbformat": 4,
 "nbformat_minor": 2
}
