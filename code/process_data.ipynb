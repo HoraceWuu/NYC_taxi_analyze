{
 "cells": [
  {
   "attachments": {},
   "cell_type": "markdown",
   "metadata": {},
   "source": [
    "This notebook is used to process data.   \n",
    "At the end of project it will be merged into the main notebook.\n"
   ]
  },
  {
   "cell_type": "code",
   "execution_count": 57,
   "metadata": {},
   "outputs": [],
   "source": [
    "# import libraries to process parquet files and geospatial data\n",
    "import pandas as pd\n",
    "import geopandas as gpd\n",
    "import os\n",
    "import warnings\n",
    "warnings.filterwarnings('ignore')"
   ]
  },
  {
   "cell_type": "code",
   "execution_count": 114,
   "metadata": {},
   "outputs": [],
   "source": [
    "# create a function to read and process parquet files from folder and return a dataframe\n",
    "def read_and_parquet(folder_path):\n",
    "    '''\n",
    "    INPUT: folder_path - path to folder containing parquet files\n",
    "    OUTPUT: df - counted dataframe of parquet files\n",
    "    '''\n",
    "    \n",
    "    for filename in os.listdir(folder_path):\n",
    "        if filename.endswith(\".parquet\"):\n",
    "            file_path = os.path.join(folder_path, filename)\n",
    "            df = pd.read_parquet(file_path)\n",
    "\n",
    "            # rename columns for yellow taxi data\n",
    "            if filename.split('_')[0] == 'yellow':\n",
    "                df = df.rename(columns={'tpep_pickup_datetime':'lpep_pickup_datetime',\n",
    "                                                           'tpep_dropoff_datetime':'lpep_dropoff_datetime'})\n",
    "            df = process_data(df)  # process the dataframe\n",
    "            save_path = f'../data/processed_nyc_data/{filename.split(\".\")[0]}.csv'\n",
    "            save_path = save_path.replace('trip', 'count')\n",
    "            df.to_csv(save_path, index=False)  # save the dataframe to csv file\n",
    "            print(f'{filename} is processed')\n",
    "    return 'Done!'\n",
    "\n",
    "# create a function to process the dataframe and return a counted dataframe\n",
    "def process_data(df):\n",
    "    '''\n",
    "    INPUT: df - dataframe of parquet files\n",
    "    OUTPUT: df - counted dataframe of parquet files\n",
    "    '''\n",
    "    # select columns that are needed\n",
    "    df = df[['lpep_pickup_datetime', 'passenger_count', \n",
    "             'trip_distance', 'PULocationID', 'DOLocationID', 'tip_amount', 'total_amount']]\n",
    "\n",
    "\n",
    "    # fill missing values in 'passenger_count' column with 1\n",
    "    df['passenger_count'] = df['passenger_count'].fillna(1)\n",
    "    # delete rows with missing values in 'trip_distance' column\n",
    "    df = df.dropna(subset=['trip_distance'])\n",
    "    # calculate the passenger_turnover = passenger_count * trip_distance\n",
    "    df['passenger_turnover'] = df['passenger_count'] * df['trip_distance']\n",
    "    # dropna in 'total_amount' and 'tip_amount' columns\n",
    "    df = df.dropna(subset=['total_amount','tip_amount'])\n",
    "    # calculate the trip_fee = Total_amount - Tip_amount\n",
    "    df['trip_fee'] = df['total_amount'] - df['tip_amount']\n",
    "\n",
    "\n",
    "    # delete columns that are not needed anymore\n",
    "    df = df.drop(columns=['passenger_count','trip_distance','total_amount','tip_amount'])\n",
    "    # delete rows with negative values and 0 in 'trip_fee' column\n",
    "    df = df[df['trip_fee'] > 0]\n",
    "\n",
    "    # count the number of trips in each day, hour, PULocationID and DOLocationID\n",
    "    df['lpep_pickup_datetime'] = pd.to_datetime(df['lpep_pickup_datetime'])\n",
    "    df['day'] = df['lpep_pickup_datetime'].dt.day\n",
    "    df['hour'] = df['lpep_pickup_datetime'].dt.hour\n",
    "    count_df = df.groupby(['day','hour','PULocationID','DOLocationID']).count().reset_index()\n",
    "    \n",
    "    # calculate the average trip_fee in each day, hour, PULocationID and DOLocationID\n",
    "    count_df['trip_fee'] = df.groupby(['day','hour','PULocationID','DOLocationID']).mean().reset_index()['trip_fee']\n",
    "    # calculate the total passenger_turnover in each day, hour, PULocationID and DOLocationID\n",
    "    count_df['passenger_turnover'] = df.groupby(['day','hour','PULocationID','DOLocationID']).sum().reset_index()['passenger_turnover']\n",
    "\n",
    "    # rename the column 'lpep_pickup_datetime' to 'trip_count'\n",
    "    count_df = count_df.rename(columns={'lpep_pickup_datetime':'trip_count'})\n",
    "    \n",
    "    return count_df"
   ]
  },
  {
   "cell_type": "code",
   "execution_count": 115,
   "metadata": {},
   "outputs": [
    {
     "name": "stderr",
     "output_type": "stream",
     "text": [
      "/home/biakuya/miniconda3/envs/PTUA_Ass/lib/python3.7/site-packages/ipykernel_launcher.py:36: SettingWithCopyWarning: \n",
      "A value is trying to be set on a copy of a slice from a DataFrame.\n",
      "Try using .loc[row_indexer,col_indexer] = value instead\n",
      "\n",
      "See the caveats in the documentation: https://pandas.pydata.org/pandas-docs/stable/user_guide/indexing.html#returning-a-view-versus-a-copy\n"
     ]
    },
    {
     "name": "stdout",
     "output_type": "stream",
     "text": [
      "green_tripdata_2020-12.parquet is processed\n"
     ]
    },
    {
     "name": "stderr",
     "output_type": "stream",
     "text": [
      "/home/biakuya/miniconda3/envs/PTUA_Ass/lib/python3.7/site-packages/ipykernel_launcher.py:36: SettingWithCopyWarning: \n",
      "A value is trying to be set on a copy of a slice from a DataFrame.\n",
      "Try using .loc[row_indexer,col_indexer] = value instead\n",
      "\n",
      "See the caveats in the documentation: https://pandas.pydata.org/pandas-docs/stable/user_guide/indexing.html#returning-a-view-versus-a-copy\n"
     ]
    },
    {
     "name": "stdout",
     "output_type": "stream",
     "text": [
      "yellow_tripdata_2020-12.parquet is processed\n"
     ]
    },
    {
     "name": "stderr",
     "output_type": "stream",
     "text": [
      "/home/biakuya/miniconda3/envs/PTUA_Ass/lib/python3.7/site-packages/ipykernel_launcher.py:36: SettingWithCopyWarning: \n",
      "A value is trying to be set on a copy of a slice from a DataFrame.\n",
      "Try using .loc[row_indexer,col_indexer] = value instead\n",
      "\n",
      "See the caveats in the documentation: https://pandas.pydata.org/pandas-docs/stable/user_guide/indexing.html#returning-a-view-versus-a-copy\n"
     ]
    },
    {
     "name": "stdout",
     "output_type": "stream",
     "text": [
      "yellow_tripdata_2021-12.parquet is processed\n"
     ]
    },
    {
     "name": "stderr",
     "output_type": "stream",
     "text": [
      "/home/biakuya/miniconda3/envs/PTUA_Ass/lib/python3.7/site-packages/ipykernel_launcher.py:36: SettingWithCopyWarning: \n",
      "A value is trying to be set on a copy of a slice from a DataFrame.\n",
      "Try using .loc[row_indexer,col_indexer] = value instead\n",
      "\n",
      "See the caveats in the documentation: https://pandas.pydata.org/pandas-docs/stable/user_guide/indexing.html#returning-a-view-versus-a-copy\n"
     ]
    },
    {
     "name": "stdout",
     "output_type": "stream",
     "text": [
      "yellow_tripdata_2018-12.parquet is processed\n"
     ]
    },
    {
     "name": "stderr",
     "output_type": "stream",
     "text": [
      "/home/biakuya/miniconda3/envs/PTUA_Ass/lib/python3.7/site-packages/ipykernel_launcher.py:36: SettingWithCopyWarning: \n",
      "A value is trying to be set on a copy of a slice from a DataFrame.\n",
      "Try using .loc[row_indexer,col_indexer] = value instead\n",
      "\n",
      "See the caveats in the documentation: https://pandas.pydata.org/pandas-docs/stable/user_guide/indexing.html#returning-a-view-versus-a-copy\n"
     ]
    },
    {
     "name": "stdout",
     "output_type": "stream",
     "text": [
      "green_tripdata_2019-12.parquet is processed\n"
     ]
    },
    {
     "name": "stderr",
     "output_type": "stream",
     "text": [
      "/home/biakuya/miniconda3/envs/PTUA_Ass/lib/python3.7/site-packages/ipykernel_launcher.py:36: SettingWithCopyWarning: \n",
      "A value is trying to be set on a copy of a slice from a DataFrame.\n",
      "Try using .loc[row_indexer,col_indexer] = value instead\n",
      "\n",
      "See the caveats in the documentation: https://pandas.pydata.org/pandas-docs/stable/user_guide/indexing.html#returning-a-view-versus-a-copy\n"
     ]
    },
    {
     "name": "stdout",
     "output_type": "stream",
     "text": [
      "green_tripdata_2018-12.parquet is processed\n"
     ]
    },
    {
     "name": "stderr",
     "output_type": "stream",
     "text": [
      "/home/biakuya/miniconda3/envs/PTUA_Ass/lib/python3.7/site-packages/ipykernel_launcher.py:36: SettingWithCopyWarning: \n",
      "A value is trying to be set on a copy of a slice from a DataFrame.\n",
      "Try using .loc[row_indexer,col_indexer] = value instead\n",
      "\n",
      "See the caveats in the documentation: https://pandas.pydata.org/pandas-docs/stable/user_guide/indexing.html#returning-a-view-versus-a-copy\n"
     ]
    },
    {
     "name": "stdout",
     "output_type": "stream",
     "text": [
      "green_tripdata_2017-12.parquet is processed\n"
     ]
    },
    {
     "name": "stderr",
     "output_type": "stream",
     "text": [
      "/home/biakuya/miniconda3/envs/PTUA_Ass/lib/python3.7/site-packages/ipykernel_launcher.py:36: SettingWithCopyWarning: \n",
      "A value is trying to be set on a copy of a slice from a DataFrame.\n",
      "Try using .loc[row_indexer,col_indexer] = value instead\n",
      "\n",
      "See the caveats in the documentation: https://pandas.pydata.org/pandas-docs/stable/user_guide/indexing.html#returning-a-view-versus-a-copy\n"
     ]
    },
    {
     "name": "stdout",
     "output_type": "stream",
     "text": [
      "yellow_tripdata_2017-12.parquet is processed\n"
     ]
    },
    {
     "name": "stderr",
     "output_type": "stream",
     "text": [
      "/home/biakuya/miniconda3/envs/PTUA_Ass/lib/python3.7/site-packages/ipykernel_launcher.py:36: SettingWithCopyWarning: \n",
      "A value is trying to be set on a copy of a slice from a DataFrame.\n",
      "Try using .loc[row_indexer,col_indexer] = value instead\n",
      "\n",
      "See the caveats in the documentation: https://pandas.pydata.org/pandas-docs/stable/user_guide/indexing.html#returning-a-view-versus-a-copy\n"
     ]
    },
    {
     "name": "stdout",
     "output_type": "stream",
     "text": [
      "yellow_tripdata_2019-12.parquet is processed\n"
     ]
    },
    {
     "name": "stderr",
     "output_type": "stream",
     "text": [
      "/home/biakuya/miniconda3/envs/PTUA_Ass/lib/python3.7/site-packages/ipykernel_launcher.py:36: SettingWithCopyWarning: \n",
      "A value is trying to be set on a copy of a slice from a DataFrame.\n",
      "Try using .loc[row_indexer,col_indexer] = value instead\n",
      "\n",
      "See the caveats in the documentation: https://pandas.pydata.org/pandas-docs/stable/user_guide/indexing.html#returning-a-view-versus-a-copy\n"
     ]
    },
    {
     "name": "stdout",
     "output_type": "stream",
     "text": [
      "green_tripdata_2021-12.parquet is processed\n"
     ]
    },
    {
     "data": {
      "text/plain": [
       "'Done!'"
      ]
     },
     "execution_count": 115,
     "metadata": {},
     "output_type": "execute_result"
    }
   ],
   "source": [
    "# process parquet files from folder\n",
    "folder_path = '../data/NYC_taxi_data/'\n",
    "read_and_parquet(folder_path)"
   ]
  },
  {
   "attachments": {},
   "cell_type": "markdown",
   "metadata": {},
   "source": [
    "useful columns: \n",
    "* lpep _pickup_datetime\n",
    "* passenger_count\n",
    "* tripdistance\n",
    "* PULocation\n",
    "* DOLocation\n",
    "* Tip_amount\n",
    "* Total_amount\n",
    "\n",
    "In which:\n",
    "* passenger_turnover = passenger_count * tripdistance\n",
    "* trip_fee = Total_amount - Tip_amount\n",
    "\n"
   ]
  },
  {
   "cell_type": "code",
   "execution_count": 96,
   "metadata": {},
   "outputs": [],
   "source": [
    "# Read shapefile into geopandas dataframe\n",
    "nyczones = gpd.read_file('../data/taxi_zones/taxi_zones.shp')\n",
    "\n",
    "# Convert to WGS84\n",
    "nyczones = nyczones.to_crs(epsg=4326)\n"
   ]
  },
  {
   "cell_type": "code",
   "execution_count": 97,
   "metadata": {},
   "outputs": [
    {
     "name": "stderr",
     "output_type": "stream",
     "text": [
      "/home/biakuya/miniconda3/envs/PTUA_Ass/lib/python3.7/site-packages/ipykernel_launcher.py:2: UserWarning: Geometry is in a geographic CRS. Results from 'centroid' are likely incorrect. Use 'GeoSeries.to_crs()' to re-project geometries to a projected CRS before this operation.\n",
      "\n",
      "  \n"
     ]
    }
   ],
   "source": [
    "# find the center of each zone\n",
    "nyczones['center'] = nyczones['geometry'].centroid"
   ]
  }
 ],
 "metadata": {
  "kernelspec": {
   "display_name": "PTUA_Ass",
   "language": "python",
   "name": "python3"
  },
  "language_info": {
   "codemirror_mode": {
    "name": "ipython",
    "version": 3
   },
   "file_extension": ".py",
   "mimetype": "text/x-python",
   "name": "python",
   "nbconvert_exporter": "python",
   "pygments_lexer": "ipython3",
   "version": "3.7.12"
  },
  "orig_nbformat": 4,
  "vscode": {
   "interpreter": {
    "hash": "73aa197a937c6d4ce912cf3eb748cc19d4a43b8337a43d316b8eed91cf78bf92"
   }
  }
 },
 "nbformat": 4,
 "nbformat_minor": 2
}
