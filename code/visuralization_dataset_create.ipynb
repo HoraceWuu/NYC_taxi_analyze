{
 "cells": [
  {
   "cell_type": "code",
   "execution_count": null,
   "metadata": {},
   "outputs": [],
   "source": [
    "# test the visualizating tool of the counted data\n",
    "# creat test dataset\n",
    "\n",
    "def create_test_data(df, day, hour):\n",
    "    '''\n",
    "    input: df - the counted data with the added features\n",
    "           day - the day of the data\n",
    "           hour - the hour of the data\n",
    "    output: save the test data to the folder\n",
    "    '''\n",
    "    # only keep the columns: PULocation_lat, PULocation_lon, DOLocation_lat, DOLocation_lon, day, hour, passenger_turnover\n",
    "    df = df[['PULocation_lon', 'PULocation_lat', 'DOLocation_lon', 'DOLocation_lat', 'day', 'hour', 'passenger_turnover']]\n",
    "\n",
    "    # select data which day is day, hour is hour\n",
    "    df_day_hour = df[(df['day'] == day) & (df['hour'] == hour)]\n",
    "\n",
    "    # drop day and hour columns for the datasets\n",
    "    df_day_hour = df_day_hour.drop(columns=['day', 'hour'])\n",
    "\n",
    "    # save the datasets\n",
    "    df_day_hour.to_csv('../data/processed_nyc_data/test/df' + str(day) + '_' + str(hour) + '.csv', index=False)\n",
    "\n",
    "    return f'Success create test data for day {day} and hour {hour}'"
   ]
  },
  {
   "cell_type": "code",
   "execution_count": null,
   "metadata": {},
   "outputs": [],
   "source": [
    "# example of using the create_test_data function\n",
    "create_test_data(df, 11, 8)"
   ]
  }
 ],
 "metadata": {
  "kernelspec": {
   "display_name": "Python 3",
   "language": "python",
   "name": "python3"
  },
  "language_info": {
   "name": "python",
   "version": "3.10.6 (main, Mar 10 2023, 10:55:28) [GCC 11.3.0]"
  },
  "orig_nbformat": 4,
  "vscode": {
   "interpreter": {
    "hash": "e7370f93d1d0cde622a1f8e1c04877d8463912d04d973331ad4851f04de6915a"
   }
  }
 },
 "nbformat": 4,
 "nbformat_minor": 2
}
