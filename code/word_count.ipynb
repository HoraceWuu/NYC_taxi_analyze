{
 "cells": [
  {
   "cell_type": "code",
   "execution_count": 1,
   "metadata": {},
   "outputs": [],
   "source": [
    "import json"
   ]
  },
  {
   "cell_type": "code",
   "execution_count": 3,
   "metadata": {},
   "outputs": [
    {
     "name": "stdout",
     "output_type": "stream",
     "text": [
      "Total number of words in Markdown cells:  25\n"
     ]
    }
   ],
   "source": [
    "with open('final_main.ipynb') as f:\n",
    "    nb = json.load(f)\n",
    "\n",
    "word_count = 0\n",
    "\n",
    "for cell in nb['cells']:\n",
    "    if cell['cell_type'] == 'markdown':\n",
    "        for line in cell['source']:\n",
    "            words = line.split()\n",
    "            word_count += len(words)\n",
    "\n",
    "print(\"Total number of words in Markdown cells: \", word_count)"
   ]
  }
 ],
 "metadata": {
  "kernelspec": {
   "display_name": "Python 3",
   "language": "python",
   "name": "python3"
  },
  "language_info": {
   "codemirror_mode": {
    "name": "ipython",
    "version": 3
   },
   "file_extension": ".py",
   "mimetype": "text/x-python",
   "name": "python",
   "nbconvert_exporter": "python",
   "pygments_lexer": "ipython3",
   "version": "3.10.6"
  },
  "orig_nbformat": 4,
  "vscode": {
   "interpreter": {
    "hash": "e7370f93d1d0cde622a1f8e1c04877d8463912d04d973331ad4851f04de6915a"
   }
  }
 },
 "nbformat": 4,
 "nbformat_minor": 2
}
